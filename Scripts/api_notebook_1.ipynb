{
 "cells": [
  {
   "cell_type": "code",
   "execution_count": null,
   "id": "e5c36386",
   "metadata": {},
   "outputs": [],
   "source": [
    "import requests\n",
    "import json\n",
    "import time\n",
    "\n",
   
    "\n",
    "url = 'https://api.yelp.com/v3/businesses/search'\n",
    "\n",
    "\n",
    "headers = {\n",
    "    \"accept\": \"application/json\",\n",
    "    \"Authorization\": f\"Bearer {yelp_api_key}\"\n",
    "}\n",
    "\n",
    "final_raw_data=[]\n",
    "\n",
    "for i in range(0, 1000, 50):\n",
    "    params = {\n",
    "        \"location\": \"Orange County\",\n",
    "        \"term\": \"asian food\",\n",
    "        \"sort_by\": \"best_match\",\n",
    "        \"limit\": 50,\n",
    "        \"offset\": i\n",
    "    }\n",
    "\n",
    "    response = requests.get(url, headers=headers, params=params)\n",
    "    raw_data = response.json()\n",
    "    final_raw_data.extend(raw_data.get(\"businesses\",[]))\n",
    "    time.sleep(0.25)\n",
    "\n",
    "final_raw_data\n"
   ]
  },
  {
   "cell_type": "markdown",
   "id": "c28afe19",
   "metadata": {},
   "source": []
  },
  {
   "cell_type": "code",
   "execution_count": 4,
   "id": "6c838d2f",
   "metadata": {},
   "outputs": [
    {
     "name": "stdout",
     "output_type": "stream",
     "text": [
      "Hello\n"
     ]
    }
   ],
   "source": [
    "print (\"Hello\")"
   ]
  },
  {
   "cell_type": "code",
   "execution_count": null,
   "id": "e96b41eb",
   "metadata": {},
   "outputs": [],
   "source": []
  }
 ],
 "metadata": {
  "kernelspec": {
   "display_name": ".venv",
   "language": "python",
   "name": "python3"
  },
  "language_info": {
   "codemirror_mode": {
    "name": "ipython",
    "version": 3
   },
   "file_extension": ".py",
   "mimetype": "text/x-python",
   "name": "python",
   "nbconvert_exporter": "python",
   "pygments_lexer": "ipython3",
   "version": "3.12.3"
  }
 },
 "nbformat": 4,
 "nbformat_minor": 5
}
