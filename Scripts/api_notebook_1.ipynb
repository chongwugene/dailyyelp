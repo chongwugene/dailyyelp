{
 "cells": [
  {
   "cell_type": "code",
   "execution_count": null,
   "id": "e5c36386",
   "metadata": {},
   "outputs": [
    {
     "name": "stdout",
     "output_type": "stream",
     "text": [
      "✅ Data saved to yelp_orange_county_asian_food_20250613_080229.json\n",
      "Total:  200\n"
     ]
    }
   ],
   "source": [
    "import requests\n",
    "import json\n",
    "import time\n",
    "from datetime import datetime\n",
    "\n",
    "\n",
    "timestamp = datetime.now().strftime(\"%Y%m%d_%H%M%S\")  # e.g., 20250612_023015\n",
    "\n",
    "with open(\"yelp_api_key.txt\", \"r\") as f:\n",
    "    yelp_api_key = f.read().strip()\n",
    "    \n",
    "url = 'https://api.yelp.com/v3/businesses/search'\n",
    "\n",
    "\n",
    "headers = {\n",
    "    \"accept\": \"application/json\",\n",
    "    \"Authorization\": f\"Bearer {yelp_api_key}\"\n",
    "}\n",
    "\n",
    "final_raw_data=[]\n",
    "\n",
    "for i in range(0, 1000, 50):\n",
    "    params = {\n",
    "        \"location\": \"Orange County\",\n",
    "        \"term\": \"asian food\",\n",
    "        \"sort_by\": \"best_match\",\n",
    "        \"limit\": 50,\n",
    "        \"offset\": i\n",
    "    }\n",
    "\n",
    "    response = requests.get(url, headers=headers, params=params)\n",
    "    raw_data = response.json()\n",
    "    final_raw_data.extend(raw_data.get(\"businesses\",[]))\n",
    "    time.sleep(0.25)\n",
    "\n",
    "\n",
    "filename = f\"yelp_orange_county_asian_food_{timestamp}.json\"\n",
    "\n",
    "with open(filename, \"w\") as f:\n",
    "    for i in final_raw_data:\n",
    "        json.dump(i, f)\n",
    "        f.write(\"\\n\")\n",
    "\n",
    "\n",
    "print(f\"✅ Data saved to {filename}\")\n",
    "print(\"Total: \",len(final_raw_data))\n",
    "#final_raw_data\n"
   ]
  },
  {
   "cell_type": "markdown",
   "id": "c28afe19",
   "metadata": {},
   "source": []
  },
  {
   "cell_type": "code",
   "execution_count": 51,
   "id": "6c838d2f",
   "metadata": {},
   "outputs": [
    {
     "name": "stdout",
     "output_type": "stream",
     "text": [
      "yelp_orange_county_asian_food_20250613_080229.json\n"
     ]
    }
   ],
   "source": [
    "print (filename)"
   ]
  },
  {
   "cell_type": "code",
   "execution_count": 58,
   "id": "dcd55d16",
   "metadata": {},
   "outputs": [],
   "source": [
    "with open(\"yelp_api_key.txt\", \"r\") as f:\n",
    "    yelp_api_key = f.read().strip()"
   ]
  },
  {
   "cell_type": "code",
   "execution_count": 52,
   "id": "e96b41eb",
   "metadata": {},
   "outputs": [
    {
     "name": "stdout",
     "output_type": "stream",
     "text": [
      "/home/devuser/project/Scripts\n"
     ]
    }
   ],
   "source": [
    "import os\n",
    "print(os.getcwd())"
   ]
  },
  {
   "cell_type": "code",
   "execution_count": 53,
   "id": "1e9dd0cc",
   "metadata": {},
   "outputs": [
    {
     "name": "stdout",
     "output_type": "stream",
     "text": [
      "/home/devuser/project/yelp_orange_county_asian_food_20250613_080229.json\n"
     ]
    }
   ],
   "source": [
    "import os\n",
    "os.environ[\"GOOGLE_APPLICATION_CREDENTIALS\"] = f\"/home/devuser/project/{filename}\"\n",
    "print(os.getenv(\"GOOGLE_APPLICATION_CREDENTIALS\"))"
   ]
  },
  {
   "cell_type": "code",
   "execution_count": 54,
   "id": "14583d99",
   "metadata": {},
   "outputs": [
    {
     "name": "stdout",
     "output_type": "stream",
     "text": [
      "✅ File uploaded to gs://yelpdailydata/yelp/yelp_orange_county_asian_food_20250613_080229.json\n"
     ]
    }
   ],
   "source": [
    "# load the json file into google cloud storage\n",
    "\n",
    "from google.cloud import storage\n",
    "import os\n",
    "\n",
    "# Set path to service account key file (optional if already exported)\n",
    "credential_filename = \"yelpdaily-58438c6c49cc.json\"\n",
    "os.environ[\"GOOGLE_APPLICATION_CREDENTIALS\"] = f\"/home/devuser/project/{credential_filename}\"\n",
    "\n",
    "# Define GCS info\n",
    "bucket_name = \"yelpdailydata\"  # <-- replace with your GCS bucket name\n",
    "source_file_path = f\"/home/devuser/project/scripts/{filename}\"  # local path\n",
    "destination_blob_name = f\"yelp/{filename}\"  # GCS path\n",
    "\n",
    "# Initialize GCS client\n",
    "client = storage.Client()\n",
    "bucket = client.bucket(bucket_name)\n",
    "blob = bucket.blob(destination_blob_name)\n",
    "\n",
    "# Upload the file\n",
    "blob.upload_from_filename(source_file_path)\n",
    "\n",
    "print(f\"✅ File uploaded to gs://{bucket_name}/{destination_blob_name}\")\n"
   ]
  },
  {
   "cell_type": "code",
   "execution_count": 55,
   "id": "fb95be3a",
   "metadata": {},
   "outputs": [
    {
     "name": "stdout",
     "output_type": "stream",
     "text": [
      "Starting job...\n",
      "Loaded 200 rows into yelpdaily.yelpdaily.yelp_orange_county_asian_food_20250613_080229\n"
     ]
    }
   ],
   "source": [
    "from google.cloud import bigquery\n",
    "import os\n",
    "\n",
    "# Set path to service account key file (optional if already exported)\n",
    "credential_filename = \"yelpdaily-58438c6c49cc.json\"\n",
    "os.environ[\"GOOGLE_APPLICATION_CREDENTIALS\"] = f\"/home/devuser/project/{credential_filename}\"\n",
    "\n",
    "# Initialize the BigQuery client\n",
    "client = bigquery.Client()\n",
    "\n",
    "# Set your variables\n",
    "bucket_name = \"yelpdailydata\"  # Replace with your GCS bucket name\n",
    "file_name = f\"{filename}\"\n",
    "gcs_path = f\"gs://{bucket_name}/yelp/{file_name}\"  # Path to your JSON file\n",
    "dataset_id = \"yelpdaily\"  # Replace with your BigQuery dataset name\n",
    "table_id = f\"{file_name}\".removesuffix(\".json\")  # Replace with your target table name\n",
    "\n",
    "# Full table ID in project.dataset.table format\n",
    "project = client.project\n",
    "table_ref = f\"{project}.{dataset_id}.{table_id}\"\n",
    "\n",
    "# Configure the load job\n",
    "job_config = bigquery.LoadJobConfig(\n",
    "    source_format=bigquery.SourceFormat.NEWLINE_DELIMITED_JSON,\n",
    "    autodetect=True  # Automatically detect schema from JSON data\n",
    ")\n",
    "\n",
    "# Start the load job\n",
    "load_job = client.load_table_from_uri(\n",
    "    gcs_path,\n",
    "    table_ref,\n",
    "    job_config=job_config\n",
    ")\n",
    "\n",
    "print(\"Starting job...\")\n",
    "load_job.result()  # Wait for the job to finish\n",
    "\n",
    "print(f\"Loaded {load_job.output_rows} rows into {table_ref}\")\n"
   ]
  },
  {
   "cell_type": "code",
   "execution_count": null,
   "id": "d3aab47b",
   "metadata": {},
   "outputs": [],
   "source": []
  }
 ],
 "metadata": {
  "kernelspec": {
   "display_name": ".venv",
   "language": "python",
   "name": "python3"
  },
  "language_info": {
   "codemirror_mode": {
    "name": "ipython",
    "version": 3
   },
   "file_extension": ".py",
   "mimetype": "text/x-python",
   "name": "python",
   "nbconvert_exporter": "python",
   "pygments_lexer": "ipython3",
   "version": "3.12.3"
  }
 },
 "nbformat": 4,
 "nbformat_minor": 5
}
